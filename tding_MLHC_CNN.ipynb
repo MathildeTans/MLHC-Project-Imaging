{
  "cells": [
    {
      "cell_type": "code",
      "execution_count": null,
      "metadata": {
        "execution": {
          "iopub.execute_input": "2023-05-09T22:53:59.448635Z",
          "iopub.status.busy": "2023-05-09T22:53:59.447630Z",
          "iopub.status.idle": "2023-05-09T22:53:59.464221Z",
          "shell.execute_reply": "2023-05-09T22:53:59.462214Z",
          "shell.execute_reply.started": "2023-05-09T22:53:59.448635Z"
        },
        "tags": [],
        "colab": {
          "base_uri": "https://localhost:8080/"
        },
        "id": "ekT0Rj_uAVpT",
        "outputId": "76b7d0c4-a84e-4c67-d4f8-b95e34233eb3"
      },
      "outputs": [
        {
          "output_type": "stream",
          "name": "stdout",
          "text": [
            "Drive already mounted at /content/drive; to attempt to forcibly remount, call drive.mount(\"/content/drive\", force_remount=True).\n"
          ]
        }
      ],
      "source": [
        "import numpy as np\n",
        "import tensorflow as tf\n",
        "from tensorflow.keras import layers, models, Model\n",
        "from tensorflow.keras.applications import ResNet50, VGG16\n",
        "from keras.callbacks import ModelCheckpoint, Callback, EarlyStopping\n",
        "from tensorflow.keras.optimizers import Adam, SGD, RMSprop\n",
        "import matplotlib.pyplot as plt\n",
        "\n",
        "from google.colab import drive\n",
        "drive.mount('/content/drive')"
      ],
      "id": "ekT0Rj_uAVpT"
    },
    {
      "cell_type": "code",
      "execution_count": null,
      "metadata": {
        "execution": {
          "iopub.execute_input": "2023-05-09T22:55:00.307543Z",
          "iopub.status.busy": "2023-05-09T22:55:00.307543Z",
          "iopub.status.idle": "2023-05-09T22:55:00.924857Z",
          "shell.execute_reply": "2023-05-09T22:55:00.923847Z",
          "shell.execute_reply.started": "2023-05-09T22:55:00.307543Z"
        },
        "tags": [],
        "id": "2wYXHBrnAVpU"
      },
      "outputs": [],
      "source": [
        "X_train = np.load('/content/drive/MyDrive/MLHC_preprocessed_data/X_train.npy')\n",
        "X_val = np.load('/content/drive/MyDrive/MLHC_preprocessed_data/X_val.npy')\n",
        "X_test = np.load('/content/drive/MyDrive/MLHC_preprocessed_data/X_test.npy')\n",
        "y_train = np.load('/content/drive/MyDrive/MLHC_preprocessed_data/y_train.npy')\n",
        "y_val = np.load('/content/drive/MyDrive/MLHC_preprocessed_data/y_val.npy')\n",
        "y_test = np.load('/content/drive/MyDrive/MLHC_preprocessed_data/y_test.npy')"
      ],
      "id": "2wYXHBrnAVpU"
    },
    {
      "cell_type": "code",
      "execution_count": null,
      "metadata": {
        "execution": {
          "iopub.execute_input": "2023-05-09T22:55:02.538584Z",
          "iopub.status.busy": "2023-05-09T22:55:02.538584Z",
          "iopub.status.idle": "2023-05-09T22:55:02.917551Z",
          "shell.execute_reply": "2023-05-09T22:55:02.915578Z",
          "shell.execute_reply.started": "2023-05-09T22:55:02.538584Z"
        },
        "tags": [],
        "id": "h1SenmTcAVpV"
      },
      "outputs": [],
      "source": [
        "# Define the CNN model\n",
        "model = tf.keras.models.Sequential([\n",
        "    layers.Conv2D(32, (3, 3), activation='relu', input_shape=(128, 128, 1)),\n",
        "    layers.MaxPooling2D((2, 2)),\n",
        "    layers.Conv2D(64, (3, 3), activation='relu'),\n",
        "    layers.MaxPooling2D((2, 2)),\n",
        "    layers.Conv2D(128, (3, 3), activation='relu'),\n",
        "    layers.Flatten(),\n",
        "    layers.Dense(64, activation='relu'),\n",
        "    layers.Dropout(0.2),\n",
        "    layers.Dense(16, activation='relu'),\n",
        "    layers.Dense(4, activation='softmax')\n",
        "])\n",
        "\n",
        "es = EarlyStopping(monitor='val_accuracy', patience=30)\n",
        "chkpt = ModelCheckpoint(filepath='best_model_todate', save_best_only=True, save_weights_only=True)\n",
        "\n",
        "# Compile the model\n",
        "model.compile(optimizer='adam', \n",
        "              loss='sparse_categorical_crossentropy', \n",
        "              metrics=['accuracy']\n",
        "              )"
      ],
      "id": "h1SenmTcAVpV"
    },
    {
      "cell_type": "code",
      "source": [
        "model.summary()"
      ],
      "metadata": {
        "colab": {
          "base_uri": "https://localhost:8080/"
        },
        "id": "rdwleTU7EqGC",
        "outputId": "44697581-3b35-4e7d-dfa4-2897ca695d21"
      },
      "id": "rdwleTU7EqGC",
      "execution_count": null,
      "outputs": [
        {
          "output_type": "stream",
          "name": "stdout",
          "text": [
            "Model: \"sequential_8\"\n",
            "_________________________________________________________________\n",
            " Layer (type)                Output Shape              Param #   \n",
            "=================================================================\n",
            " conv2d_24 (Conv2D)          (None, 126, 126, 32)      320       \n",
            "                                                                 \n",
            " max_pooling2d_16 (MaxPoolin  (None, 63, 63, 32)       0         \n",
            " g2D)                                                            \n",
            "                                                                 \n",
            " conv2d_25 (Conv2D)          (None, 61, 61, 64)        18496     \n",
            "                                                                 \n",
            " max_pooling2d_17 (MaxPoolin  (None, 30, 30, 64)       0         \n",
            " g2D)                                                            \n",
            "                                                                 \n",
            " conv2d_26 (Conv2D)          (None, 28, 28, 128)       73856     \n",
            "                                                                 \n",
            " flatten_8 (Flatten)         (None, 100352)            0         \n",
            "                                                                 \n",
            " dense_24 (Dense)            (None, 64)                6422592   \n",
            "                                                                 \n",
            " dropout_8 (Dropout)         (None, 64)                0         \n",
            "                                                                 \n",
            " dense_25 (Dense)            (None, 16)                1040      \n",
            "                                                                 \n",
            " dense_26 (Dense)            (None, 4)                 68        \n",
            "                                                                 \n",
            "=================================================================\n",
            "Total params: 6,516,372\n",
            "Trainable params: 6,516,372\n",
            "Non-trainable params: 0\n",
            "_________________________________________________________________\n"
          ]
        }
      ]
    },
    {
      "cell_type": "code",
      "execution_count": null,
      "metadata": {
        "execution": {
          "iopub.execute_input": "2023-05-09T22:55:05.018878Z",
          "iopub.status.busy": "2023-05-09T22:55:05.018878Z",
          "iopub.status.idle": "2023-05-09T23:09:09.837177Z",
          "shell.execute_reply": "2023-05-09T23:09:09.813635Z",
          "shell.execute_reply.started": "2023-05-09T22:55:05.018878Z"
        },
        "tags": [],
        "id": "mAIJZUx8AVpV",
        "outputId": "00e94b6e-00c2-4f9a-c13d-f1f09409b418",
        "colab": {
          "base_uri": "https://localhost:8080/"
        }
      },
      "outputs": [
        {
          "output_type": "stream",
          "name": "stdout",
          "text": [
            "Epoch 1/100\n",
            "120/120 [==============================] - 4s 20ms/step - loss: 1.0470 - accuracy: 0.4888 - val_loss: 0.9763 - val_accuracy: 0.5031\n",
            "Epoch 2/100\n",
            "120/120 [==============================] - 2s 18ms/step - loss: 0.9348 - accuracy: 0.5529 - val_loss: 0.8628 - val_accuracy: 0.5906\n",
            "Epoch 3/100\n",
            "120/120 [==============================] - 2s 18ms/step - loss: 0.7974 - accuracy: 0.6380 - val_loss: 0.7170 - val_accuracy: 0.6789\n",
            "Epoch 4/100\n",
            "120/120 [==============================] - 2s 17ms/step - loss: 0.6156 - accuracy: 0.7370 - val_loss: 0.5373 - val_accuracy: 0.7781\n",
            "Epoch 5/100\n",
            "120/120 [==============================] - 2s 17ms/step - loss: 0.4163 - accuracy: 0.8242 - val_loss: 0.3415 - val_accuracy: 0.8742\n",
            "Epoch 6/100\n",
            "120/120 [==============================] - 2s 18ms/step - loss: 0.2644 - accuracy: 0.9016 - val_loss: 0.2962 - val_accuracy: 0.8961\n",
            "Epoch 7/100\n",
            "120/120 [==============================] - 2s 18ms/step - loss: 0.1720 - accuracy: 0.9388 - val_loss: 0.1569 - val_accuracy: 0.9523\n",
            "Epoch 8/100\n",
            "120/120 [==============================] - 2s 16ms/step - loss: 0.1250 - accuracy: 0.9578 - val_loss: 0.2239 - val_accuracy: 0.9234\n",
            "Epoch 9/100\n",
            "120/120 [==============================] - 2s 18ms/step - loss: 0.0997 - accuracy: 0.9659 - val_loss: 0.1530 - val_accuracy: 0.9539\n",
            "Epoch 10/100\n",
            "120/120 [==============================] - 2s 18ms/step - loss: 0.0894 - accuracy: 0.9688 - val_loss: 0.1428 - val_accuracy: 0.9555\n",
            "Epoch 11/100\n",
            "120/120 [==============================] - 2s 19ms/step - loss: 0.0710 - accuracy: 0.9755 - val_loss: 0.0967 - val_accuracy: 0.9766\n",
            "Epoch 12/100\n",
            "120/120 [==============================] - 2s 16ms/step - loss: 0.0689 - accuracy: 0.9766 - val_loss: 0.1153 - val_accuracy: 0.9719\n",
            "Epoch 13/100\n",
            "120/120 [==============================] - 2s 16ms/step - loss: 0.0618 - accuracy: 0.9802 - val_loss: 0.1467 - val_accuracy: 0.9555\n",
            "Epoch 14/100\n",
            "120/120 [==============================] - 2s 16ms/step - loss: 0.0562 - accuracy: 0.9826 - val_loss: 0.1113 - val_accuracy: 0.9711\n",
            "Epoch 15/100\n",
            "120/120 [==============================] - 2s 16ms/step - loss: 0.0494 - accuracy: 0.9807 - val_loss: 0.1185 - val_accuracy: 0.9680\n",
            "Epoch 16/100\n",
            "120/120 [==============================] - 2s 16ms/step - loss: 0.0606 - accuracy: 0.9781 - val_loss: 0.1141 - val_accuracy: 0.9703\n",
            "Epoch 17/100\n",
            "120/120 [==============================] - 2s 17ms/step - loss: 0.0478 - accuracy: 0.9826 - val_loss: 0.1594 - val_accuracy: 0.9523\n",
            "Epoch 18/100\n",
            "120/120 [==============================] - 2s 16ms/step - loss: 0.0523 - accuracy: 0.9823 - val_loss: 0.1190 - val_accuracy: 0.9680\n",
            "Epoch 19/100\n",
            "120/120 [==============================] - 2s 16ms/step - loss: 0.0445 - accuracy: 0.9846 - val_loss: 0.1562 - val_accuracy: 0.9672\n",
            "Epoch 20/100\n",
            "120/120 [==============================] - 2s 17ms/step - loss: 0.0470 - accuracy: 0.9836 - val_loss: 0.1960 - val_accuracy: 0.9555\n",
            "Epoch 21/100\n",
            "120/120 [==============================] - 2s 16ms/step - loss: 0.0475 - accuracy: 0.9810 - val_loss: 0.1117 - val_accuracy: 0.9711\n",
            "Epoch 22/100\n",
            "120/120 [==============================] - 2s 16ms/step - loss: 0.0396 - accuracy: 0.9859 - val_loss: 0.1568 - val_accuracy: 0.9555\n",
            "Epoch 23/100\n",
            "120/120 [==============================] - 2s 17ms/step - loss: 0.0437 - accuracy: 0.9833 - val_loss: 0.1209 - val_accuracy: 0.9680\n",
            "Epoch 24/100\n",
            "120/120 [==============================] - 2s 16ms/step - loss: 0.0378 - accuracy: 0.9846 - val_loss: 0.1290 - val_accuracy: 0.9703\n",
            "Epoch 25/100\n",
            "120/120 [==============================] - 2s 16ms/step - loss: 0.0404 - accuracy: 0.9849 - val_loss: 0.1129 - val_accuracy: 0.9703\n",
            "Epoch 26/100\n",
            "120/120 [==============================] - 2s 16ms/step - loss: 0.0321 - accuracy: 0.9875 - val_loss: 0.1203 - val_accuracy: 0.9680\n",
            "Epoch 27/100\n",
            "120/120 [==============================] - 2s 16ms/step - loss: 0.0344 - accuracy: 0.9885 - val_loss: 0.1062 - val_accuracy: 0.9719\n",
            "Epoch 28/100\n",
            "120/120 [==============================] - 2s 18ms/step - loss: 0.0335 - accuracy: 0.9859 - val_loss: 0.0962 - val_accuracy: 0.9719\n",
            "Epoch 29/100\n",
            "120/120 [==============================] - 2s 16ms/step - loss: 0.0307 - accuracy: 0.9870 - val_loss: 0.2377 - val_accuracy: 0.9391\n",
            "Epoch 30/100\n",
            "120/120 [==============================] - 2s 16ms/step - loss: 0.0528 - accuracy: 0.9826 - val_loss: 0.1417 - val_accuracy: 0.9688\n",
            "Epoch 31/100\n",
            "120/120 [==============================] - 2s 16ms/step - loss: 0.0206 - accuracy: 0.9922 - val_loss: 0.1354 - val_accuracy: 0.9711\n",
            "Epoch 32/100\n",
            "120/120 [==============================] - 2s 16ms/step - loss: 0.0188 - accuracy: 0.9935 - val_loss: 0.1125 - val_accuracy: 0.9734\n",
            "Epoch 33/100\n",
            "120/120 [==============================] - 2s 16ms/step - loss: 0.0262 - accuracy: 0.9906 - val_loss: 0.1136 - val_accuracy: 0.9773\n",
            "Epoch 34/100\n",
            "120/120 [==============================] - 2s 18ms/step - loss: 0.0309 - accuracy: 0.9891 - val_loss: 0.0854 - val_accuracy: 0.9742\n",
            "Epoch 35/100\n",
            "120/120 [==============================] - 2s 16ms/step - loss: 0.0308 - accuracy: 0.9904 - val_loss: 0.1390 - val_accuracy: 0.9656\n",
            "Epoch 36/100\n",
            "120/120 [==============================] - 2s 16ms/step - loss: 0.0257 - accuracy: 0.9880 - val_loss: 0.1016 - val_accuracy: 0.9766\n",
            "Epoch 37/100\n",
            "120/120 [==============================] - 2s 16ms/step - loss: 0.0315 - accuracy: 0.9885 - val_loss: 0.1300 - val_accuracy: 0.9703\n",
            "Epoch 38/100\n",
            "120/120 [==============================] - 2s 16ms/step - loss: 0.0360 - accuracy: 0.9870 - val_loss: 0.2270 - val_accuracy: 0.9523\n",
            "Epoch 39/100\n",
            "120/120 [==============================] - 2s 18ms/step - loss: 0.0251 - accuracy: 0.9893 - val_loss: 0.0798 - val_accuracy: 0.9773\n",
            "Epoch 40/100\n",
            "120/120 [==============================] - 2s 16ms/step - loss: 0.0154 - accuracy: 0.9930 - val_loss: 0.1088 - val_accuracy: 0.9727\n",
            "Epoch 41/100\n",
            "120/120 [==============================] - 2s 16ms/step - loss: 0.0242 - accuracy: 0.9909 - val_loss: 0.0987 - val_accuracy: 0.9766\n",
            "Epoch 42/100\n",
            "120/120 [==============================] - 2s 16ms/step - loss: 0.0291 - accuracy: 0.9909 - val_loss: 0.1167 - val_accuracy: 0.9727\n",
            "Epoch 43/100\n",
            "120/120 [==============================] - 2s 16ms/step - loss: 0.0161 - accuracy: 0.9924 - val_loss: 0.0920 - val_accuracy: 0.9789\n",
            "Epoch 44/100\n",
            "120/120 [==============================] - 2s 16ms/step - loss: 0.0178 - accuracy: 0.9927 - val_loss: 0.2086 - val_accuracy: 0.9484\n",
            "Epoch 45/100\n",
            "120/120 [==============================] - 2s 16ms/step - loss: 0.0188 - accuracy: 0.9914 - val_loss: 0.1669 - val_accuracy: 0.9688\n",
            "Epoch 46/100\n",
            "120/120 [==============================] - 2s 17ms/step - loss: 0.0348 - accuracy: 0.9875 - val_loss: 0.1433 - val_accuracy: 0.9688\n",
            "Epoch 47/100\n",
            "120/120 [==============================] - 2s 16ms/step - loss: 0.0255 - accuracy: 0.9898 - val_loss: 0.1146 - val_accuracy: 0.9742\n",
            "Epoch 48/100\n",
            "120/120 [==============================] - 2s 16ms/step - loss: 0.0171 - accuracy: 0.9953 - val_loss: 0.1346 - val_accuracy: 0.9695\n",
            "Epoch 49/100\n",
            "120/120 [==============================] - 2s 16ms/step - loss: 0.0177 - accuracy: 0.9943 - val_loss: 0.0982 - val_accuracy: 0.9734\n",
            "Epoch 50/100\n",
            "120/120 [==============================] - 2s 17ms/step - loss: 0.0217 - accuracy: 0.9930 - val_loss: 0.0790 - val_accuracy: 0.9812\n",
            "Epoch 51/100\n",
            "120/120 [==============================] - 2s 16ms/step - loss: 0.0188 - accuracy: 0.9935 - val_loss: 0.0937 - val_accuracy: 0.9789\n",
            "Epoch 52/100\n",
            "120/120 [==============================] - 2s 16ms/step - loss: 0.0161 - accuracy: 0.9943 - val_loss: 0.0964 - val_accuracy: 0.9727\n",
            "Epoch 53/100\n",
            "120/120 [==============================] - 2s 16ms/step - loss: 0.0120 - accuracy: 0.9961 - val_loss: 0.1140 - val_accuracy: 0.9711\n",
            "Epoch 54/100\n",
            "120/120 [==============================] - 2s 17ms/step - loss: 0.0100 - accuracy: 0.9961 - val_loss: 0.0782 - val_accuracy: 0.9805\n",
            "Epoch 55/100\n",
            "120/120 [==============================] - 2s 16ms/step - loss: 0.0162 - accuracy: 0.9948 - val_loss: 0.1349 - val_accuracy: 0.9648\n",
            "Epoch 56/100\n",
            "120/120 [==============================] - 2s 16ms/step - loss: 0.0198 - accuracy: 0.9922 - val_loss: 0.1752 - val_accuracy: 0.9750\n",
            "Epoch 57/100\n",
            "120/120 [==============================] - 2s 16ms/step - loss: 0.0290 - accuracy: 0.9898 - val_loss: 0.1280 - val_accuracy: 0.9719\n",
            "Epoch 58/100\n",
            "120/120 [==============================] - 2s 17ms/step - loss: 0.0323 - accuracy: 0.9893 - val_loss: 0.0983 - val_accuracy: 0.9789\n",
            "Epoch 59/100\n",
            "120/120 [==============================] - 2s 16ms/step - loss: 0.0229 - accuracy: 0.9917 - val_loss: 0.1190 - val_accuracy: 0.9664\n",
            "Epoch 60/100\n",
            "120/120 [==============================] - 2s 16ms/step - loss: 0.0094 - accuracy: 0.9974 - val_loss: 0.1070 - val_accuracy: 0.9766\n",
            "Epoch 61/100\n",
            "120/120 [==============================] - 2s 16ms/step - loss: 0.0095 - accuracy: 0.9969 - val_loss: 0.0813 - val_accuracy: 0.9789\n",
            "Epoch 62/100\n",
            "120/120 [==============================] - 2s 16ms/step - loss: 0.0130 - accuracy: 0.9945 - val_loss: 0.1103 - val_accuracy: 0.9734\n",
            "Epoch 63/100\n",
            "120/120 [==============================] - 2s 16ms/step - loss: 0.0177 - accuracy: 0.9932 - val_loss: 0.0823 - val_accuracy: 0.9805\n",
            "Epoch 64/100\n",
            "120/120 [==============================] - 2s 17ms/step - loss: 0.0123 - accuracy: 0.9961 - val_loss: 0.0662 - val_accuracy: 0.9867\n",
            "Epoch 65/100\n",
            "120/120 [==============================] - 2s 16ms/step - loss: 0.0244 - accuracy: 0.9922 - val_loss: 0.1471 - val_accuracy: 0.9695\n",
            "Epoch 66/100\n",
            "120/120 [==============================] - 2s 16ms/step - loss: 0.0192 - accuracy: 0.9945 - val_loss: 0.0917 - val_accuracy: 0.9820\n",
            "Epoch 67/100\n",
            "120/120 [==============================] - 2s 16ms/step - loss: 0.0176 - accuracy: 0.9937 - val_loss: 0.1122 - val_accuracy: 0.9750\n",
            "Epoch 68/100\n",
            "120/120 [==============================] - 2s 16ms/step - loss: 0.0141 - accuracy: 0.9956 - val_loss: 0.0980 - val_accuracy: 0.9812\n",
            "Epoch 69/100\n",
            "120/120 [==============================] - 2s 16ms/step - loss: 0.0067 - accuracy: 0.9974 - val_loss: 0.1036 - val_accuracy: 0.9789\n",
            "Epoch 70/100\n",
            "120/120 [==============================] - 2s 16ms/step - loss: 0.0082 - accuracy: 0.9958 - val_loss: 0.1014 - val_accuracy: 0.9828\n",
            "Epoch 71/100\n",
            "120/120 [==============================] - 2s 16ms/step - loss: 0.0090 - accuracy: 0.9977 - val_loss: 0.1044 - val_accuracy: 0.9852\n",
            "Epoch 72/100\n",
            "120/120 [==============================] - 2s 16ms/step - loss: 0.0077 - accuracy: 0.9977 - val_loss: 0.1317 - val_accuracy: 0.9844\n",
            "Epoch 73/100\n",
            "120/120 [==============================] - 2s 16ms/step - loss: 0.0118 - accuracy: 0.9961 - val_loss: 0.1050 - val_accuracy: 0.9766\n",
            "Epoch 74/100\n",
            "120/120 [==============================] - 2s 16ms/step - loss: 0.0198 - accuracy: 0.9943 - val_loss: 0.1477 - val_accuracy: 0.9727\n",
            "Epoch 75/100\n",
            "120/120 [==============================] - 2s 16ms/step - loss: 0.0153 - accuracy: 0.9943 - val_loss: 0.1368 - val_accuracy: 0.9812\n",
            "Epoch 76/100\n",
            "120/120 [==============================] - 2s 16ms/step - loss: 0.0224 - accuracy: 0.9930 - val_loss: 0.1483 - val_accuracy: 0.9672\n",
            "Epoch 77/100\n",
            "120/120 [==============================] - 2s 16ms/step - loss: 0.0224 - accuracy: 0.9909 - val_loss: 0.2479 - val_accuracy: 0.9664\n",
            "Epoch 78/100\n",
            "120/120 [==============================] - 2s 16ms/step - loss: 0.0158 - accuracy: 0.9951 - val_loss: 0.1121 - val_accuracy: 0.9789\n",
            "Epoch 79/100\n",
            "120/120 [==============================] - 2s 16ms/step - loss: 0.0174 - accuracy: 0.9943 - val_loss: 0.0917 - val_accuracy: 0.9758\n",
            "Epoch 80/100\n",
            "120/120 [==============================] - 2s 16ms/step - loss: 0.0122 - accuracy: 0.9953 - val_loss: 0.1140 - val_accuracy: 0.9781\n",
            "Epoch 81/100\n",
            "120/120 [==============================] - 2s 16ms/step - loss: 0.0070 - accuracy: 0.9977 - val_loss: 0.1064 - val_accuracy: 0.9828\n",
            "Epoch 82/100\n",
            "120/120 [==============================] - 2s 16ms/step - loss: 0.0139 - accuracy: 0.9953 - val_loss: 0.1204 - val_accuracy: 0.9766\n",
            "Epoch 83/100\n",
            "120/120 [==============================] - 2s 16ms/step - loss: 0.0187 - accuracy: 0.9943 - val_loss: 0.2055 - val_accuracy: 0.9656\n",
            "Epoch 84/100\n",
            "120/120 [==============================] - 2s 16ms/step - loss: 0.0076 - accuracy: 0.9969 - val_loss: 0.1155 - val_accuracy: 0.9773\n",
            "Epoch 85/100\n",
            "120/120 [==============================] - 2s 16ms/step - loss: 0.0040 - accuracy: 0.9992 - val_loss: 0.1834 - val_accuracy: 0.9719\n",
            "Epoch 86/100\n",
            "120/120 [==============================] - 2s 16ms/step - loss: 0.0094 - accuracy: 0.9974 - val_loss: 0.1651 - val_accuracy: 0.9797\n",
            "Epoch 87/100\n",
            "120/120 [==============================] - 2s 16ms/step - loss: 0.0098 - accuracy: 0.9966 - val_loss: 0.1358 - val_accuracy: 0.9781\n",
            "Epoch 88/100\n",
            "120/120 [==============================] - 2s 16ms/step - loss: 0.0058 - accuracy: 0.9984 - val_loss: 0.1401 - val_accuracy: 0.9766\n",
            "Epoch 89/100\n",
            "120/120 [==============================] - 2s 16ms/step - loss: 0.0098 - accuracy: 0.9969 - val_loss: 0.2316 - val_accuracy: 0.9711\n",
            "Epoch 90/100\n",
            "120/120 [==============================] - 2s 16ms/step - loss: 0.0184 - accuracy: 0.9940 - val_loss: 0.1387 - val_accuracy: 0.9727\n",
            "Epoch 91/100\n",
            "120/120 [==============================] - 2s 16ms/step - loss: 0.0195 - accuracy: 0.9937 - val_loss: 0.1562 - val_accuracy: 0.9734\n",
            "Epoch 92/100\n",
            "120/120 [==============================] - 2s 16ms/step - loss: 0.0150 - accuracy: 0.9951 - val_loss: 0.1806 - val_accuracy: 0.9617\n",
            "Epoch 93/100\n",
            "120/120 [==============================] - 2s 16ms/step - loss: 0.0144 - accuracy: 0.9956 - val_loss: 0.1659 - val_accuracy: 0.9719\n",
            "Epoch 94/100\n",
            "120/120 [==============================] - 2s 16ms/step - loss: 0.0224 - accuracy: 0.9922 - val_loss: 0.1684 - val_accuracy: 0.9750\n"
          ]
        }
      ],
      "source": [
        "# Train the model\n",
        "history = model.fit(X_train, y_train, \n",
        "          epochs=100, \n",
        "          batch_size=32, \n",
        "          validation_data=(X_val, y_val),\n",
        "          callbacks=[es, chkpt])"
      ],
      "id": "mAIJZUx8AVpV"
    },
    {
      "cell_type": "code",
      "source": [
        "plt.figure(figsize=(12, 8))\n",
        "\n",
        "plt.subplot(2, 2, 1)\n",
        "plt.plot(history.history['loss'], label='Train Loss')\n",
        "plt.plot(history.history['val_loss'], label='Val Loss')\n",
        "plt.legend()\n",
        "plt.title('Loss Evolution')\n",
        "\n",
        "plt.subplot(2, 2, 2)\n",
        "plt.plot(history.history['accuracy'], label='Train Accuracy')\n",
        "plt.plot(history.history['val_accuracy'], label='Val Accuracy')\n",
        "plt.legend()\n",
        "plt.title('Accuracy Evolution')"
      ],
      "metadata": {
        "colab": {
          "base_uri": "https://localhost:8080/",
          "height": 380
        },
        "id": "e82R-B4TFJXN",
        "outputId": "c3afa590-f799-4a2a-a0b4-1c64e9005aa7"
      },
      "id": "e82R-B4TFJXN",
      "execution_count": null,
      "outputs": [
        {
          "output_type": "execute_result",
          "data": {
            "text/plain": [
              "Text(0.5, 1.0, 'Accuracy Evolution')"
            ]
          },
          "metadata": {},
          "execution_count": 47
        },
        {
          "output_type": "display_data",
          "data": {
            "text/plain": [
              "<Figure size 1200x800 with 2 Axes>"
            ],
            "image/png": "[encoded data removed]"
          },
          "metadata": {}
        }
      ]
    },
    {
      "cell_type": "code",
      "execution_count": null,
      "metadata": {
        "execution": {
          "iopub.execute_input": "2023-05-09T23:09:29.791254Z",
          "iopub.status.busy": "2023-05-09T23:09:29.785755Z",
          "iopub.status.idle": "2023-05-09T23:09:36.491077Z",
          "shell.execute_reply": "2023-05-09T23:09:36.488754Z",
          "shell.execute_reply.started": "2023-05-09T23:09:29.790606Z"
        },
        "tags": [],
        "id": "obWzoTnnAVpV",
        "outputId": "d2a99e50-2de4-4903-8a12-a4fea656046f",
        "colab": {
          "base_uri": "https://localhost:8080/"
        }
      },
      "outputs": [
        {
          "output_type": "stream",
          "name": "stdout",
          "text": [
            "40/40 [==============================] - 0s 5ms/step - loss: 0.1886 - accuracy: 0.9711\n",
            "Test loss: 0.1886\n",
            "Test accuracy: 0.9711\n"
          ]
        }
      ],
      "source": [
        "loss, accuracy = model.evaluate(X_test, y_test)\n",
        "print(f'Test loss: {loss:.4f}')\n",
        "print(f'Test accuracy: {accuracy:.4f}')"
      ],
      "id": "obWzoTnnAVpV"
    }
  ],
  "metadata": {
    "kernelspec": {
      "display_name": "Python 3",
      "language": "python",
      "name": "python3"
    },
    "language_info": {
      "codemirror_mode": {
        "name": "ipython",
        "version": 3
      },
      "file_extension": ".py",
      "mimetype": "text/x-python",
      "name": "python",
      "nbconvert_exporter": "python",
      "pygments_lexer": "ipython3",
      "version": "3.8.5"
    },
    "colab": {
      "provenance": [],
      "machine_shape": "hm",
      "gpuType": "T4"
    },
    "accelerator": "GPU",
    "gpuClass": "standard"
  },
  "nbformat": 4,
  "nbformat_minor": 5
}