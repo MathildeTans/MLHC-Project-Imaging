{
 "cells": [
  {
   "cell_type": "code",
   "execution_count": 2,
   "id": "cdba0f97-b4f4-4881-95e6-4027880f3b2d",
   "metadata": {
    "execution": {
     "iopub.execute_input": "2023-05-09T22:53:59.448635Z",
     "iopub.status.busy": "2023-05-09T22:53:59.447630Z",
     "iopub.status.idle": "2023-05-09T22:53:59.464221Z",
     "shell.execute_reply": "2023-05-09T22:53:59.462214Z",
     "shell.execute_reply.started": "2023-05-09T22:53:59.448635Z"
    },
    "tags": []
   },
   "outputs": [],
   "source": [
    "import numpy as np\n",
    "from tensorflow.keras import layers, models"
   ]
  },
  {
   "cell_type": "code",
   "execution_count": 5,
   "id": "42519b4d-02ac-47a1-a9af-1014b6033390",
   "metadata": {
    "execution": {
     "iopub.execute_input": "2023-05-09T22:55:00.307543Z",
     "iopub.status.busy": "2023-05-09T22:55:00.307543Z",
     "iopub.status.idle": "2023-05-09T22:55:00.924857Z",
     "shell.execute_reply": "2023-05-09T22:55:00.923847Z",
     "shell.execute_reply.started": "2023-05-09T22:55:00.307543Z"
    },
    "tags": []
   },
   "outputs": [],
   "source": [
    "X_train = np.load('preprocessed data\\X_train.npy')\n",
    "X_val = np.load('preprocessed data\\X_val.npy')\n",
    "X_test = np.load('preprocessed data\\X_test.npy')\n",
    "y_train = np.load('preprocessed data\\y_train.npy')\n",
    "y_val = np.load('preprocessed data\\y_val.npy')\n",
    "y_test = np.load('preprocessed data\\y_test.npy')"
   ]
  },
  {
   "cell_type": "code",
   "execution_count": 6,
   "id": "94341644-07aa-4cb7-988e-955a087d9063",
   "metadata": {
    "execution": {
     "iopub.execute_input": "2023-05-09T22:55:02.538584Z",
     "iopub.status.busy": "2023-05-09T22:55:02.538584Z",
     "iopub.status.idle": "2023-05-09T22:55:02.917551Z",
     "shell.execute_reply": "2023-05-09T22:55:02.915578Z",
     "shell.execute_reply.started": "2023-05-09T22:55:02.538584Z"
    },
    "tags": []
   },
   "outputs": [],
   "source": [
    "# Define the CNN model\n",
    "model = models.Sequential()\n",
    "model.add(layers.Conv2D(32, (3, 3), activation='relu', input_shape=(128, 128, 1)))\n",
    "model.add(layers.MaxPooling2D((2, 2)))\n",
    "model.add(layers.Conv2D(64, (3, 3), activation='relu'))\n",
    "model.add(layers.MaxPooling2D((2, 2)))\n",
    "model.add(layers.Conv2D(64, (3, 3), activation='relu'))\n",
    "model.add(layers.Flatten())\n",
    "model.add(layers.Dense(64, activation='relu'))\n",
    "model.add(layers.Dense(4, activation='softmax'))\n",
    "\n",
    "# Compile the model\n",
    "model.compile(optimizer='adam', \n",
    "              loss='sparse_categorical_crossentropy', \n",
    "              metrics=['accuracy'])"
   ]
  },
  {
   "cell_type": "code",
   "execution_count": null,
   "id": "dff546e9-5a55-42bc-aec8-5f09d92c2249",
   "metadata": {
    "execution": {
     "iopub.execute_input": "2023-05-09T22:55:05.018878Z",
     "iopub.status.busy": "2023-05-09T22:55:05.018878Z"
    },
    "tags": []
   },
   "outputs": [
    {
     "name": "stdout",
     "output_type": "stream",
     "text": [
      "Epoch 1/10\n",
      " 19/120 [===>..........................] - ETA: 1:06 - loss: 1.1176 - accuracy: 0.4309"
     ]
    }
   ],
   "source": [
    "# Train the model\n",
    "model.fit(X_train, y_train, \n",
    "          epochs=10, \n",
    "          batch_size=32, \n",
    "          validation_data=(X_val, y_val))"
   ]
  },
  {
   "cell_type": "code",
   "execution_count": null,
   "id": "9f6d2079-aeb4-4aa7-8c6f-5607c66c56c3",
   "metadata": {},
   "outputs": [],
   "source": [
    "loss, accuracy = model.evaluate(X_test, y_test)\n",
    "print(f'Test loss: {loss:.4f}')\n",
    "print(f'Test accuracy: {accuracy:.4f}')"
   ]
  }
 ],
 "metadata": {
  "kernelspec": {
   "display_name": "Python 3 (ipykernel)",
   "language": "python",
   "name": "python3"
  },
  "language_info": {
   "codemirror_mode": {
    "name": "ipython",
    "version": 3
   },
   "file_extension": ".py",
   "mimetype": "text/x-python",
   "name": "python",
   "nbconvert_exporter": "python",
   "pygments_lexer": "ipython3",
   "version": "3.10.9"
  }
 },
 "nbformat": 4,
 "nbformat_minor": 5
}
