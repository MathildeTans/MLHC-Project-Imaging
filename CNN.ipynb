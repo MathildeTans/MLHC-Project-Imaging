{
 "cells": [
  {
   "cell_type": "code",
   "execution_count": 2,
   "id": "cdba0f97-b4f4-4881-95e6-4027880f3b2d",
   "metadata": {
    "execution": {
     "iopub.execute_input": "2023-05-09T22:53:59.448635Z",
     "iopub.status.busy": "2023-05-09T22:53:59.447630Z",
     "iopub.status.idle": "2023-05-09T22:53:59.464221Z",
     "shell.execute_reply": "2023-05-09T22:53:59.462214Z",
     "shell.execute_reply.started": "2023-05-09T22:53:59.448635Z"
    },
    "tags": []
   },
   "outputs": [],
   "source": [
    "import numpy as np\n",
    "from tensorflow.keras import layers, models"
   ]
  },
  {
   "cell_type": "code",
   "execution_count": 5,
   "id": "42519b4d-02ac-47a1-a9af-1014b6033390",
   "metadata": {
    "execution": {
     "iopub.execute_input": "2023-05-09T22:55:00.307543Z",
     "iopub.status.busy": "2023-05-09T22:55:00.307543Z",
     "iopub.status.idle": "2023-05-09T22:55:00.924857Z",
     "shell.execute_reply": "2023-05-09T22:55:00.923847Z",
     "shell.execute_reply.started": "2023-05-09T22:55:00.307543Z"
    },
    "tags": []
   },
   "outputs": [],
   "source": [
    "X_train = np.load('preprocessed data\\X_train.npy')\n",
    "X_val = np.load('preprocessed data\\X_val.npy')\n",
    "X_test = np.load('preprocessed data\\X_test.npy')\n",
    "y_train = np.load('preprocessed data\\y_train.npy')\n",
    "y_val = np.load('preprocessed data\\y_val.npy')\n",
    "y_test = np.load('preprocessed data\\y_test.npy')"
   ]
  },
  {
   "cell_type": "code",
   "execution_count": 6,
   "id": "94341644-07aa-4cb7-988e-955a087d9063",
   "metadata": {
    "execution": {
     "iopub.execute_input": "2023-05-09T22:55:02.538584Z",
     "iopub.status.busy": "2023-05-09T22:55:02.538584Z",
     "iopub.status.idle": "2023-05-09T22:55:02.917551Z",
     "shell.execute_reply": "2023-05-09T22:55:02.915578Z",
     "shell.execute_reply.started": "2023-05-09T22:55:02.538584Z"
    },
    "tags": []
   },
   "outputs": [],
   "source": [
    "# Define the CNN model\n",
    "model = models.Sequential()\n",
    "model.add(layers.Conv2D(32, (3, 3), activation='relu', input_shape=(128, 128, 1)))\n",
    "model.add(layers.MaxPooling2D((2, 2)))\n",
    "model.add(layers.Conv2D(64, (3, 3), activation='relu'))\n",
    "model.add(layers.MaxPooling2D((2, 2)))\n",
    "model.add(layers.Conv2D(64, (3, 3), activation='relu'))\n",
    "model.add(layers.Flatten())\n",
    "model.add(layers.Dense(64, activation='relu'))\n",
    "model.add(layers.Dense(4, activation='softmax'))\n",
    "\n",
    "# Compile the model\n",
    "model.compile(optimizer='adam', \n",
    "              loss='sparse_categorical_crossentropy', \n",
    "              metrics=['accuracy'])"
   ]
  },
  {
   "cell_type": "code",
   "execution_count": 7,
   "id": "dff546e9-5a55-42bc-aec8-5f09d92c2249",
   "metadata": {
    "execution": {
     "iopub.execute_input": "2023-05-09T22:55:05.018878Z",
     "iopub.status.busy": "2023-05-09T22:55:05.018878Z",
     "iopub.status.idle": "2023-05-09T23:09:09.837177Z",
     "shell.execute_reply": "2023-05-09T23:09:09.813635Z",
     "shell.execute_reply.started": "2023-05-09T22:55:05.018878Z"
    },
    "tags": []
   },
   "outputs": [
    {
     "name": "stdout",
     "output_type": "stream",
     "text": [
      "Epoch 1/10\n",
      "120/120 [==============================] - 90s 731ms/step - loss: 0.9983 - accuracy: 0.5182 - val_loss: 0.9016 - val_accuracy: 0.6016\n",
      "Epoch 2/10\n",
      "120/120 [==============================] - 83s 687ms/step - loss: 0.8096 - accuracy: 0.6372 - val_loss: 0.7383 - val_accuracy: 0.6766\n",
      "Epoch 3/10\n",
      "120/120 [==============================] - 77s 644ms/step - loss: 0.6414 - accuracy: 0.7245 - val_loss: 0.5380 - val_accuracy: 0.7680\n",
      "Epoch 4/10\n",
      "120/120 [==============================] - 75s 622ms/step - loss: 0.4059 - accuracy: 0.8297 - val_loss: 0.5046 - val_accuracy: 0.7852\n",
      "Epoch 5/10\n",
      "120/120 [==============================] - 132s 1s/step - loss: 0.2398 - accuracy: 0.9141 - val_loss: 0.2977 - val_accuracy: 0.8836\n",
      "Epoch 6/10\n",
      "120/120 [==============================] - 81s 675ms/step - loss: 0.1179 - accuracy: 0.9568 - val_loss: 0.2427 - val_accuracy: 0.9125\n",
      "Epoch 7/10\n",
      "120/120 [==============================] - 76s 636ms/step - loss: 0.0704 - accuracy: 0.9768 - val_loss: 0.1771 - val_accuracy: 0.9391\n",
      "Epoch 8/10\n",
      "120/120 [==============================] - 75s 623ms/step - loss: 0.0288 - accuracy: 0.9914 - val_loss: 0.1494 - val_accuracy: 0.9586\n",
      "Epoch 9/10\n",
      "120/120 [==============================] - 77s 647ms/step - loss: 0.0124 - accuracy: 0.9969 - val_loss: 0.1391 - val_accuracy: 0.9633\n",
      "Epoch 10/10\n",
      "120/120 [==============================] - 79s 657ms/step - loss: 0.0277 - accuracy: 0.9901 - val_loss: 0.1815 - val_accuracy: 0.9516\n"
     ]
    },
    {
     "data": {
      "text/plain": [
       "<keras.callbacks.History at 0x2955147ee60>"
      ]
     },
     "execution_count": 7,
     "metadata": {},
     "output_type": "execute_result"
    }
   ],
   "source": [
    "# Train the model\n",
    "model.fit(X_train, y_train, \n",
    "          epochs=10, \n",
    "          batch_size=32, \n",
    "          validation_data=(X_val, y_val))"
   ]
  },
  {
   "cell_type": "code",
   "execution_count": 8,
   "id": "9f6d2079-aeb4-4aa7-8c6f-5607c66c56c3",
   "metadata": {
    "execution": {
     "iopub.execute_input": "2023-05-09T23:09:29.791254Z",
     "iopub.status.busy": "2023-05-09T23:09:29.785755Z",
     "iopub.status.idle": "2023-05-09T23:09:36.491077Z",
     "shell.execute_reply": "2023-05-09T23:09:36.488754Z",
     "shell.execute_reply.started": "2023-05-09T23:09:29.790606Z"
    },
    "tags": []
   },
   "outputs": [
    {
     "name": "stdout",
     "output_type": "stream",
     "text": [
      "40/40 [==============================] - 6s 151ms/step - loss: 0.1712 - accuracy: 0.9375\n",
      "Test loss: 0.1712\n",
      "Test accuracy: 0.9375\n"
     ]
    }
   ],
   "source": [
    "loss, accuracy = model.evaluate(X_test, y_test)\n",
    "print(f'Test loss: {loss:.4f}')\n",
    "print(f'Test accuracy: {accuracy:.4f}')"
   ]
  }
 ],
 "metadata": {
  "kernelspec": {
   "display_name": "Python 3 (ipykernel)",
   "language": "python",
   "name": "python3"
  },
  "language_info": {
   "codemirror_mode": {
    "name": "ipython",
    "version": 3
   },
   "file_extension": ".py",
   "mimetype": "text/x-python",
   "name": "python",
   "nbconvert_exporter": "python",
   "pygments_lexer": "ipython3",
   "version": "3.10.9"
  }
 },
 "nbformat": 4,
 "nbformat_minor": 5
}
